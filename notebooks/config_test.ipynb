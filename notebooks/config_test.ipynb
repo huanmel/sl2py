{
 "cells": [
  {
   "cell_type": "code",
   "execution_count": 1,
   "id": "f4e2f178",
   "metadata": {},
   "outputs": [],
   "source": [
    "import yaml"
   ]
  },
  {
   "cell_type": "code",
   "execution_count": 4,
   "id": "958778c3",
   "metadata": {},
   "outputs": [],
   "source": [
    "file=r'..\\data\\generate.yml'"
   ]
  },
  {
   "cell_type": "code",
   "execution_count": null,
   "id": "5cbcc907",
   "metadata": {},
   "outputs": [
    {
     "name": "stdout",
     "output_type": "stream",
     "text": [
      "YAML data loaded successfully:\n",
      "[{'example.dbc': {'file': 'example.dbc', 'msgs': ['AC_Message', 'MyMessage'], 'enum_prefix': ''}}]\n"
     ]
    }
   ],
   "source": [
    "with open(file, 'r') as file:\n",
    "    data = yaml.safe_load(file)\n",
    "\n",
    "print(\"YAML data loaded successfully:\")\n",
    "print(data)"
   ]
  }
 ],
 "metadata": {
  "kernelspec": {
   "display_name": "env_can",
   "language": "python",
   "name": "python3"
  },
  "language_info": {
   "codemirror_mode": {
    "name": "ipython",
    "version": 3
   },
   "file_extension": ".py",
   "mimetype": "text/x-python",
   "name": "python",
   "nbconvert_exporter": "python",
   "pygments_lexer": "ipython3",
   "version": "3.13.3"
  }
 },
 "nbformat": 4,
 "nbformat_minor": 5
}
